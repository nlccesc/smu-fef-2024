{
 "cells": [
  {
   "cell_type": "markdown",
   "id": "f7b50335-8045-4fee-a7aa-a9f06cdf6d05",
   "metadata": {},
   "source": [
    "# Tourism trends in ASEAN (2015-2023)"
   ]
  },
  {
   "cell_type": "markdown",
   "id": "c9f6025e-ad16-45e7-b653-da9cbe0e6327",
   "metadata": {},
   "source": [
    "Source:\n",
    "\n",
    "- Thailand yearly tourist arrivals: https://www.statista.com/statistics/994693/thailand-number-international-tourist-arrivals/\n",
    "- Singapore yearly tourist arrivals: Singstat - Industry > Tourism > International Visitor Arrivals (IVA) > International Visitor Arrivals By Inbound Tourism Markets\n",
    "- Indonesia yearly tourist arrivals: https://www.bps.go.id/id/statistics-table/2/MTQ3MCMy/kunjungan-wisatawan-mancanegara-per-bulan-menurut-kebangsaan.html\n",
    "- Malaysia yearly tourist arrivals:\n",
    "1. 2015: https://mytourismdata.tourism.gov.my/wp-content/uploads/2016/03/TOP-45-DEC-2015-website.pdf\n",
    "2. 2016: https://mytourismdata.tourism.gov.my/wp-content/uploads/2017/03/Top-45-Jan-Dec-2016-website.pdf\n",
    "3. 2017: https://mytourismdata.tourism.gov.my/wp-content/uploads/2018/03/Top-45-December-2017-website.pdf\n",
    "4. 2018: https://mytourismdata.tourism.gov.my/wp-content/uploads/2019/03/Top-45-December-2018-website.pdf\n",
    "5. 2019: https://mytourismdata.tourism.gov.my/wp-content/uploads/2020/03/Top-45-December-2019-website.pdf\n",
    "6. 2020: https://mytourismdata.tourism.gov.my/wp-content/uploads/2021/02/TOP-45-DEC-2020-website.pdf\n",
    "7. 2021: https://mytourismdata.tourism.gov.my/wp-content/uploads/2022/04/Top-45-JAN-DEC-2021websitetourist.pdf\n",
    "8. 2022: https://mytourismdata.tourism.gov.my/wp-content/uploads/2023/05/TOP-45-TOURIST-ARRIVAL-JAN-DEC-2022-website.pdf\n",
    "9. 2023: https://mytourismdata.tourism.gov.my/wp-content/uploads/2024/02/TOP-45-TOURIST-ARRIVALS-DECEMBER-2023.pdf"
   ]
  },
  {
   "cell_type": "code",
   "execution_count": 1,
   "id": "4dbacf95-bc59-4f1b-a1cb-e34dd3564297",
   "metadata": {},
   "outputs": [],
   "source": [
    "import matplotlib.pyplot as plt\n",
    "import numpy as np"
   ]
  },
  {
   "cell_type": "markdown",
   "id": "ef545096-61ee-403e-a4e4-71c8b6377039",
   "metadata": {},
   "source": [
    "# Data for yearly tourist arrivals for various countries (in millions)"
   ]
  },
  {
   "cell_type": "code",
   "execution_count": 2,
   "id": "a0c65723-586d-46e0-97a8-09d5ef952eb3",
   "metadata": {},
   "outputs": [],
   "source": [
    "years = np.array([2015, 2016, 2017, 2018, 2019, 2020, 2021, 2022, 2023])\n",
    "\n",
    "thailand_arrivals = np.array([29.9, 32.5, 35.59, 38.18, 39.8, 6.7, 0.43, 11.07, 28.15])\n",
    "singapore_arrivals = np.array([15.2, 16.4, 17.4, 18.5, 19.1, 2.7, 0.33, 6.31, 13.6])\n",
    "indonesia_arrivals = np.array([10.41, 11.52, 14.04, 15.81, 16.11, 4.05, 1.56, 5.89, 11.68])\n",
    "malaysia_arrivals = np.array([25.72, 26.76, 25.95, 25.83, 26.10, 4.33, 0.135, 10.07, 20.14])"
   ]
  },
  {
   "cell_type": "markdown",
   "id": "9271ef12-d154-4e53-adfe-cdcf247158f1",
   "metadata": {},
   "source": [
    "# Plot"
   ]
  },
  {
   "cell_type": "code",
   "execution_count": null,
   "id": "687a6c7a-f474-47af-bd21-50885b2b125c",
   "metadata": {},
   "outputs": [],
   "source": [
    "fig = plt.figure(figsize=(12, 8))\n",
    "ax = fig.add_subplot(111)\n",
    "\n",
    "# Country data\n",
    "ax.plot(years, thailand_arrivals, color='blue', marker='o', linestyle='-', label='Thailand')\n",
    "ax.plot(years, singapore_arrivals, color='green', marker='o', linestyle='-', label='Singapore')\n",
    "ax.plot(years, indonesia_arrivals, color='red', marker='o', linestyle='-', label='Indonesia')\n",
    "ax.plot(years, malaysia_arrivals, color='purple', marker='o', linestyle='-', label='Malaysia')\n",
    "\n",
    "# titles and labels\n",
    "ax.set_xlabel('Year')\n",
    "ax.set_ylabel('Tourist Arrivals (Millions)')\n",
    "ax.set_xticks(years)\n",
    "ax.set_ylim(0, 45)\n",
    "ax.grid(True)\n",
    "\n",
    "# Legend\n",
    "ax.legend(loc='upper left')\n",
    "\n",
    "# Caption\n",
    "fig.text(0.5, 0.85, 'Figure 7: Yearly tourist arrivals in Thailand, Singapore, Indonesia, and Malaysia (2015-2023)', \n",
    "         ha='center', fontsize=10, fontweight='bold', color='white', backgroundcolor='#002f5f', \n",
    "         bbox=dict(facecolor='#002f5f', edgecolor='none', pad=5))\n",
    "\n",
    "# Source on bottom left\n",
    "fig.text(0.01, 0.01, 'Source: https://jupyter.org/try-jupyter/lab/index.html?path=notebooks%2Fasean.ipynb', \n",
    "         fontsize=8, fontstyle='italic')\n",
    "\n",
    "plt.subplots_adjust(top=0.8, bottom=0.15)\n",
    "plt.show()"
   ]
  }
 ],
 "metadata": {
  "kernelspec": {
   "display_name": "Python 3 (ipykernel)",
   "language": "python",
   "name": "python3"
  },
  "language_info": {
   "codemirror_mode": {
    "name": "ipython",
    "version": 3
   },
   "file_extension": ".py",
   "mimetype": "text/x-python",
   "name": "python",
   "nbconvert_exporter": "python",
   "pygments_lexer": "ipython3",
   "version": "3.12.3"
  }
 },
 "nbformat": 4,
 "nbformat_minor": 5
}
